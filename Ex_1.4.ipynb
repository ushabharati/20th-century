{
 "cells": [
  {
   "cell_type": "code",
   "execution_count": 8,
   "id": "2ce740b7-20c0-4667-92cc-768d650b81c8",
   "metadata": {
    "tags": []
   },
   "outputs": [],
   "source": [
    "# Import libraries\n",
    "\n",
    "import pandas as pd\n",
    "import time\n",
    "from selenium import webdriver\n",
    "from webdriver_manager.chrome import ChromeDriverManager\n",
    "from selenium.webdriver.common.by import By\n",
    "from selenium.webdriver.chrome.service import Service\n",
    "from selenium.webdriver.chrome.options import Options\n",
    "import matplotlib.pyplot as plt\n",
    "import os\n",
    "import logging\n",
    "import requests\n",
    "import bs4"
   ]
  },
  {
   "cell_type": "markdown",
   "id": "f97bdf7b-1982-4e36-825d-544f1eb63f01",
   "metadata": {},
   "source": [
    "#### Completed installation of chromedriver"
   ]
  },
  {
   "cell_type": "code",
   "execution_count": 9,
   "id": "1cfbb8f6-e36a-4757-b296-d0a5790d9a38",
   "metadata": {
    "tags": []
   },
   "outputs": [],
   "source": [
    "service  =  Service(executable_path=ChromeDriverManager(version=\"114.0.5735.16\").install())\n",
    "driver = webdriver.Chrome(executable_path=r'C:\\Users\\Usha Bharati\\OneDrive\\Desktop\\chromedriver-win32\\chromedriver-win32\\chromedriver.exe')"
   ]
  },
  {
   "cell_type": "code",
   "execution_count": 10,
   "id": "b8429fc7-c90e-465f-8263-1735b5f5d8c1",
   "metadata": {
    "tags": []
   },
   "outputs": [],
   "source": [
    "page_url = \"https://en.wikipedia.org/wiki/Key_events_of_the_20th_century\"\n",
    "driver.get(page_url)"
   ]
  },
  {
   "cell_type": "code",
   "execution_count": 11,
   "id": "26fa8883-2b12-441b-b0ec-e34d8bb7c5a1",
   "metadata": {
    "tags": []
   },
   "outputs": [],
   "source": [
    "from bs4 import BeautifulSoup\n",
    "import requests "
   ]
  },
  {
   "cell_type": "code",
   "execution_count": 12,
   "id": "0f9118e3-9b31-439f-bd7b-af3f6de89e93",
   "metadata": {
    "tags": []
   },
   "outputs": [],
   "source": [
    "url=\"https://en.wikipedia.org/wiki/Key_events_of_the_20th_century\"\n",
    "page =  requests.get(url)"
   ]
  },
  {
   "cell_type": "code",
   "execution_count": 13,
   "id": "9010fbfa-785d-44ec-b124-efa22d08358b",
   "metadata": {
    "tags": []
   },
   "outputs": [
    {
     "name": "stdout",
     "output_type": "stream",
     "text": [
      "<title>Key events of the 20th century - Wikipedia</title>\n"
     ]
    }
   ],
   "source": [
    "soup = BeautifulSoup(page.text, 'html.parser')\n",
    "print(soup.title)  "
   ]
  },
  {
   "cell_type": "code",
   "execution_count": 14,
   "id": "a6ad699c-d5c4-4a14-b7d6-01c22075d2b9",
   "metadata": {
    "tags": []
   },
   "outputs": [],
   "source": [
    "text = soup.get_text()\n",
    "\n",
    "text = text.encode ('utf-8')\n",
    "\n",
    "with open('20th_century_Wiki.txt', 'wb') as f:\n",
    "       f.write(text)"
   ]
  },
  {
   "cell_type": "code",
   "execution_count": null,
   "id": "fe9b568d-15c2-49f0-bebb-304d59b09d20",
   "metadata": {},
   "outputs": [],
   "source": []
  }
 ],
 "metadata": {
  "kernelspec": {
   "display_name": "Python [conda env:20th_century]",
   "language": "python",
   "name": "conda-env-20th_century-py"
  },
  "language_info": {
   "codemirror_mode": {
    "name": "ipython",
    "version": 3
   },
   "file_extension": ".py",
   "mimetype": "text/x-python",
   "name": "python",
   "nbconvert_exporter": "python",
   "pygments_lexer": "ipython3",
   "version": "3.12.3"
  }
 },
 "nbformat": 4,
 "nbformat_minor": 5
}
