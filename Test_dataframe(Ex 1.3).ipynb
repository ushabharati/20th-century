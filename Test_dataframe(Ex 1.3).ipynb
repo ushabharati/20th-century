{
 "cells": [
  {
   "cell_type": "markdown",
   "id": "ebccb5de-f4dc-467c-8b43-8bdb9dfeee9f",
   "metadata": {},
   "source": [
    "### Importing pandas"
   ]
  },
  {
   "cell_type": "code",
   "execution_count": 2,
   "id": "f50c6178-a773-46e8-af27-5cdd697cb657",
   "metadata": {
    "tags": []
   },
   "outputs": [],
   "source": [
    "import pandas as pd"
   ]
  },
  {
   "cell_type": "markdown",
   "id": "f23fbb57-5fd6-4916-869c-1c828f01f68c",
   "metadata": {},
   "source": [
    "### Creating a test dataframe"
   ]
  },
  {
   "cell_type": "code",
   "execution_count": 5,
   "id": "924de41a-fe66-4d79-b484-e25ff7e66cf4",
   "metadata": {
    "tags": []
   },
   "outputs": [],
   "source": [
    "data=pd.DataFrame({\n",
    "    \"Name\":['Alice Falls','Jack Turner','George Brown','Tom Smith','Linda Newson'],\n",
    "    \"Scores\":[82.5,60,74,91,55]\n",
    "})"
   ]
  },
  {
   "cell_type": "code",
   "execution_count": 12,
   "id": "e5634c98-1744-4c60-9ecb-b70f83de43a5",
   "metadata": {
    "tags": []
   },
   "outputs": [
    {
     "data": {
      "text/html": [
       "<div>\n",
       "<style scoped>\n",
       "    .dataframe tbody tr th:only-of-type {\n",
       "        vertical-align: middle;\n",
       "    }\n",
       "\n",
       "    .dataframe tbody tr th {\n",
       "        vertical-align: top;\n",
       "    }\n",
       "\n",
       "    .dataframe thead th {\n",
       "        text-align: right;\n",
       "    }\n",
       "</style>\n",
       "<table border=\"1\" class=\"dataframe\">\n",
       "  <thead>\n",
       "    <tr style=\"text-align: right;\">\n",
       "      <th></th>\n",
       "      <th>Name</th>\n",
       "      <th>Scores</th>\n",
       "      <th>Adjusted_scores</th>\n",
       "    </tr>\n",
       "  </thead>\n",
       "  <tbody>\n",
       "    <tr>\n",
       "      <th>0</th>\n",
       "      <td>Alice Falls</td>\n",
       "      <td>82.5</td>\n",
       "      <td>8.25</td>\n",
       "    </tr>\n",
       "    <tr>\n",
       "      <th>1</th>\n",
       "      <td>Jack Turner</td>\n",
       "      <td>60.0</td>\n",
       "      <td>6.00</td>\n",
       "    </tr>\n",
       "    <tr>\n",
       "      <th>2</th>\n",
       "      <td>George Brown</td>\n",
       "      <td>74.0</td>\n",
       "      <td>7.40</td>\n",
       "    </tr>\n",
       "    <tr>\n",
       "      <th>3</th>\n",
       "      <td>Tom Smith</td>\n",
       "      <td>91.0</td>\n",
       "      <td>9.10</td>\n",
       "    </tr>\n",
       "    <tr>\n",
       "      <th>4</th>\n",
       "      <td>Linda Newson</td>\n",
       "      <td>55.0</td>\n",
       "      <td>5.50</td>\n",
       "    </tr>\n",
       "  </tbody>\n",
       "</table>\n",
       "</div>"
      ],
      "text/plain": [
       "           Name  Scores  Adjusted_scores\n",
       "0   Alice Falls    82.5             8.25\n",
       "1   Jack Turner    60.0             6.00\n",
       "2  George Brown    74.0             7.40\n",
       "3     Tom Smith    91.0             9.10\n",
       "4  Linda Newson    55.0             5.50"
      ]
     },
     "execution_count": 12,
     "metadata": {},
     "output_type": "execute_result"
    }
   ],
   "source": [
    "data"
   ]
  },
  {
   "cell_type": "code",
   "execution_count": 7,
   "id": "05a07a27-5e58-421a-938e-1fac31fea187",
   "metadata": {
    "tags": []
   },
   "outputs": [
    {
     "data": {
      "text/plain": [
       "Name       object\n",
       "Scores    float64\n",
       "dtype: object"
      ]
     },
     "execution_count": 7,
     "metadata": {},
     "output_type": "execute_result"
    }
   ],
   "source": [
    "data.dtypes"
   ]
  },
  {
   "cell_type": "markdown",
   "id": "1611d5a0-eb05-4f56-af18-cd7480211a4a",
   "metadata": {},
   "source": [
    "### Creating a new column and executing a mathematical procedure (e.g., addition, subtraction, multiplication, division) in one of the existing columns using a lambda function."
   ]
  },
  {
   "cell_type": "markdown",
   "id": "4a7a0ab9-74de-4373-9ed9-b439fbb5f785",
   "metadata": {},
   "source": [
    "#### Scores are out of 100. I am bringing the scores to 10 points using lambda function."
   ]
  },
  {
   "cell_type": "code",
   "execution_count": 10,
   "id": "11ce3d90-37f9-4ca3-8bb2-580662435a19",
   "metadata": {
    "tags": []
   },
   "outputs": [],
   "source": [
    "data['Adjusted_scores']=data['Scores'].apply(lambda x : (x*10)/100)"
   ]
  },
  {
   "cell_type": "code",
   "execution_count": 11,
   "id": "f0c9e227-f244-42cf-9e06-1d00b9bdd633",
   "metadata": {
    "tags": []
   },
   "outputs": [
    {
     "data": {
      "text/html": [
       "<div>\n",
       "<style scoped>\n",
       "    .dataframe tbody tr th:only-of-type {\n",
       "        vertical-align: middle;\n",
       "    }\n",
       "\n",
       "    .dataframe tbody tr th {\n",
       "        vertical-align: top;\n",
       "    }\n",
       "\n",
       "    .dataframe thead th {\n",
       "        text-align: right;\n",
       "    }\n",
       "</style>\n",
       "<table border=\"1\" class=\"dataframe\">\n",
       "  <thead>\n",
       "    <tr style=\"text-align: right;\">\n",
       "      <th></th>\n",
       "      <th>Name</th>\n",
       "      <th>Scores</th>\n",
       "      <th>Adjusted_scores</th>\n",
       "    </tr>\n",
       "  </thead>\n",
       "  <tbody>\n",
       "    <tr>\n",
       "      <th>0</th>\n",
       "      <td>Alice Falls</td>\n",
       "      <td>82.5</td>\n",
       "      <td>8.25</td>\n",
       "    </tr>\n",
       "    <tr>\n",
       "      <th>1</th>\n",
       "      <td>Jack Turner</td>\n",
       "      <td>60.0</td>\n",
       "      <td>6.00</td>\n",
       "    </tr>\n",
       "    <tr>\n",
       "      <th>2</th>\n",
       "      <td>George Brown</td>\n",
       "      <td>74.0</td>\n",
       "      <td>7.40</td>\n",
       "    </tr>\n",
       "    <tr>\n",
       "      <th>3</th>\n",
       "      <td>Tom Smith</td>\n",
       "      <td>91.0</td>\n",
       "      <td>9.10</td>\n",
       "    </tr>\n",
       "    <tr>\n",
       "      <th>4</th>\n",
       "      <td>Linda Newson</td>\n",
       "      <td>55.0</td>\n",
       "      <td>5.50</td>\n",
       "    </tr>\n",
       "  </tbody>\n",
       "</table>\n",
       "</div>"
      ],
      "text/plain": [
       "           Name  Scores  Adjusted_scores\n",
       "0   Alice Falls    82.5             8.25\n",
       "1   Jack Turner    60.0             6.00\n",
       "2  George Brown    74.0             7.40\n",
       "3     Tom Smith    91.0             9.10\n",
       "4  Linda Newson    55.0             5.50"
      ]
     },
     "execution_count": 11,
     "metadata": {},
     "output_type": "execute_result"
    }
   ],
   "source": [
    "data"
   ]
  },
  {
   "cell_type": "markdown",
   "id": "d403a0d7-7e69-4cb4-82a0-2b65ceea7802",
   "metadata": {},
   "source": [
    "### Creating a flag column from the text column in example dataframe using a lambda function"
   ]
  },
  {
   "cell_type": "markdown",
   "id": "af4f580b-ccae-4038-bf82-494aec10a7e8",
   "metadata": {},
   "source": [
    "#### I am creating a flag column for pass or fail based on the score obtained by the individual student."
   ]
  },
  {
   "cell_type": "code",
   "execution_count": 17,
   "id": "24842327-33e6-4b2f-bd33-2363e6e87904",
   "metadata": {
    "tags": []
   },
   "outputs": [],
   "source": [
    "data['Status'] = data['Scores'].apply(lambda x:'Pass' if x >60 else 'Fail')\n",
    "\n"
   ]
  },
  {
   "cell_type": "code",
   "execution_count": 18,
   "id": "31c02ee1-ecd3-4d06-b378-889c65352258",
   "metadata": {
    "tags": []
   },
   "outputs": [
    {
     "data": {
      "text/html": [
       "<div>\n",
       "<style scoped>\n",
       "    .dataframe tbody tr th:only-of-type {\n",
       "        vertical-align: middle;\n",
       "    }\n",
       "\n",
       "    .dataframe tbody tr th {\n",
       "        vertical-align: top;\n",
       "    }\n",
       "\n",
       "    .dataframe thead th {\n",
       "        text-align: right;\n",
       "    }\n",
       "</style>\n",
       "<table border=\"1\" class=\"dataframe\">\n",
       "  <thead>\n",
       "    <tr style=\"text-align: right;\">\n",
       "      <th></th>\n",
       "      <th>Name</th>\n",
       "      <th>Scores</th>\n",
       "      <th>Adjusted_scores</th>\n",
       "      <th>Status</th>\n",
       "    </tr>\n",
       "  </thead>\n",
       "  <tbody>\n",
       "    <tr>\n",
       "      <th>0</th>\n",
       "      <td>Alice Falls</td>\n",
       "      <td>82.5</td>\n",
       "      <td>8.25</td>\n",
       "      <td>Pass</td>\n",
       "    </tr>\n",
       "    <tr>\n",
       "      <th>1</th>\n",
       "      <td>Jack Turner</td>\n",
       "      <td>60.0</td>\n",
       "      <td>6.00</td>\n",
       "      <td>Fail</td>\n",
       "    </tr>\n",
       "    <tr>\n",
       "      <th>2</th>\n",
       "      <td>George Brown</td>\n",
       "      <td>74.0</td>\n",
       "      <td>7.40</td>\n",
       "      <td>Pass</td>\n",
       "    </tr>\n",
       "    <tr>\n",
       "      <th>3</th>\n",
       "      <td>Tom Smith</td>\n",
       "      <td>91.0</td>\n",
       "      <td>9.10</td>\n",
       "      <td>Pass</td>\n",
       "    </tr>\n",
       "    <tr>\n",
       "      <th>4</th>\n",
       "      <td>Linda Newson</td>\n",
       "      <td>55.0</td>\n",
       "      <td>5.50</td>\n",
       "      <td>Fail</td>\n",
       "    </tr>\n",
       "  </tbody>\n",
       "</table>\n",
       "</div>"
      ],
      "text/plain": [
       "           Name  Scores  Adjusted_scores Status\n",
       "0   Alice Falls    82.5             8.25   Pass\n",
       "1   Jack Turner    60.0             6.00   Fail\n",
       "2  George Brown    74.0             7.40   Pass\n",
       "3     Tom Smith    91.0             9.10   Pass\n",
       "4  Linda Newson    55.0             5.50   Fail"
      ]
     },
     "execution_count": 18,
     "metadata": {},
     "output_type": "execute_result"
    }
   ],
   "source": [
    "data"
   ]
  }
 ],
 "metadata": {
  "kernelspec": {
   "display_name": "Python [conda env:20th_century]",
   "language": "python",
   "name": "conda-env-20th_century-py"
  },
  "language_info": {
   "codemirror_mode": {
    "name": "ipython",
    "version": 3
   },
   "file_extension": ".py",
   "mimetype": "text/x-python",
   "name": "python",
   "nbconvert_exporter": "python",
   "pygments_lexer": "ipython3",
   "version": "3.12.3"
  }
 },
 "nbformat": 4,
 "nbformat_minor": 5
}
