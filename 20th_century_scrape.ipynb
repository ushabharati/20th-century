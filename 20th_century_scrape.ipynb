{
 "cells": [
  {
   "cell_type": "markdown",
   "id": "9df81875-a286-40d4-a58a-c766f402f6ea",
   "metadata": {},
   "source": [
    "## Ex 1.4- Accessing the web page without API"
   ]
  },
  {
   "cell_type": "code",
   "execution_count": 1,
   "id": "2ce740b7-20c0-4667-92cc-768d650b81c8",
   "metadata": {
    "tags": []
   },
   "outputs": [],
   "source": [
    "# Import libraries\n",
    "\n",
    "import pandas as pd\n",
    "import time\n",
    "from selenium import webdriver\n",
    "from webdriver_manager.chrome import ChromeDriverManager\n",
    "from selenium.webdriver.common.by import By\n",
    "from selenium.webdriver.chrome.service import Service\n",
    "from selenium.webdriver.chrome.options import Options\n",
    "import matplotlib.pyplot as plt\n",
    "import os\n",
    "import logging\n",
    "import requests\n",
    "import bs4"
   ]
  },
  {
   "cell_type": "markdown",
   "id": "cd151a8e-bb4b-4f5f-a9b9-16d96705b412",
   "metadata": {},
   "source": [
    "### Installing chrome driver manager"
   ]
  },
  {
   "cell_type": "code",
   "execution_count": 2,
   "id": "1cfbb8f6-e36a-4757-b296-d0a5790d9a38",
   "metadata": {
    "tags": []
   },
   "outputs": [
    {
     "name": "stderr",
     "output_type": "stream",
     "text": [
      "[WDM] - Downloading: 100%|████████████████████████████████████████████████████████| 6.30M/6.30M [00:00<00:00, 7.61MB/s]\n"
     ]
    }
   ],
   "source": [
    "service  =  Service(executable_path=ChromeDriverManager(version=\"114.0.5735.16\").install())\n",
    "driver = webdriver.Chrome(executable_path=r'C:\\Users\\Usha Bharati\\OneDrive\\Desktop\\chromedriver-win32\\chromedriver-win32\\chromedriver.exe')"
   ]
  },
  {
   "cell_type": "code",
   "execution_count": 3,
   "id": "468a0efc-10c9-4ce1-8c38-5713f78260a2",
   "metadata": {
    "tags": []
   },
   "outputs": [],
   "source": [
    "# Navigating to the required url using selenium\n",
    "\n",
    "page_url = \"https://en.wikipedia.org/wiki/Key_events_of_the_20th_century\"\n",
    "driver.get(page_url)"
   ]
  },
  {
   "cell_type": "markdown",
   "id": "ddce9bd9-eea0-4f47-bb6f-d8021ff3b91e",
   "metadata": {},
   "source": [
    "### Scraping the 'Key Events of the 20th Century' Wikipedia page with requests and bs4"
   ]
  },
  {
   "cell_type": "code",
   "execution_count": 33,
   "id": "26fa8883-2b12-441b-b0ec-e34d8bb7c5a1",
   "metadata": {
    "tags": []
   },
   "outputs": [],
   "source": [
    "# Importing the required libraries\n",
    "\n",
    "from bs4 import BeautifulSoup\n",
    "import requests "
   ]
  },
  {
   "cell_type": "code",
   "execution_count": 24,
   "id": "0f9118e3-9b31-439f-bd7b-af3f6de89e93",
   "metadata": {
    "tags": []
   },
   "outputs": [],
   "source": [
    "# Getting url\n",
    "\n",
    "url=\"https://en.wikipedia.org/wiki/Key_events_of_the_20th_century\"\n",
    "page =  requests.get(url)"
   ]
  },
  {
   "cell_type": "code",
   "execution_count": 25,
   "id": "9010fbfa-785d-44ec-b124-efa22d08358b",
   "metadata": {
    "tags": []
   },
   "outputs": [
    {
     "name": "stdout",
     "output_type": "stream",
     "text": [
      "<title>Key events of the 20th century - Wikipedia</title>\n"
     ]
    }
   ],
   "source": [
    "# Create soup and get title\n",
    "\n",
    "soup = BeautifulSoup(page.text, 'html.parser')\n",
    "print(soup.title)  "
   ]
  },
  {
   "cell_type": "code",
   "execution_count": 14,
   "id": "a6ad699c-d5c4-4a14-b7d6-01c22075d2b9",
   "metadata": {
    "tags": []
   },
   "outputs": [],
   "source": [
    "text = soup.get_text()\n",
    "\n",
    "text = text.encode ('utf-8')\n",
    "\n",
    "with open('20th_century_Wiki.txt', 'wb') as f:\n",
    "       f.write(text)"
   ]
  }
 ],
 "metadata": {
  "kernelspec": {
   "display_name": "Python [conda env:20th_century]",
   "language": "python",
   "name": "conda-env-20th_century-py"
  },
  "language_info": {
   "codemirror_mode": {
    "name": "ipython",
    "version": 3
   },
   "file_extension": ".py",
   "mimetype": "text/x-python",
   "name": "python",
   "nbconvert_exporter": "python",
   "pygments_lexer": "ipython3",
   "version": "3.12.3"
  }
 },
 "nbformat": 4,
 "nbformat_minor": 5
}
